{
 "cells": [
  {
   "cell_type": "code",
   "execution_count": 64,
   "metadata": {
    "collapsed": true
   },
   "outputs": [],
   "source": [
    "import pandas as pd\n",
    "import numpy as np"
   ]
  },
  {
   "cell_type": "code",
   "execution_count": 139,
   "metadata": {
    "collapsed": true
   },
   "outputs": [],
   "source": [
    "data = pd.read_csv('NueBevABTest.csv')"
   ]
  },
  {
   "cell_type": "code",
   "execution_count": 7,
   "metadata": {},
   "outputs": [
    {
     "data": {
      "text/plain": [
       "254"
      ]
     },
     "execution_count": 7,
     "metadata": {},
     "output_type": "execute_result"
    }
   ],
   "source": [
    "len(data['Client number'].unique())"
   ]
  },
  {
   "cell_type": "code",
   "execution_count": 8,
   "metadata": {},
   "outputs": [
    {
     "data": {
      "text/plain": [
       "(254, 7)"
      ]
     },
     "execution_count": 8,
     "metadata": {},
     "output_type": "execute_result"
    }
   ],
   "source": [
    "data.shape"
   ]
  },
  {
   "cell_type": "code",
   "execution_count": 140,
   "metadata": {},
   "outputs": [],
   "source": [
    "data['Customer Begin'] = pd.to_datetime(data['Customer Begin'])\n",
    "data['Customer End'] = pd.to_datetime(data['Customer End'], format='%Y-%m-%d')"
   ]
  },
  {
   "cell_type": "code",
   "execution_count": 332,
   "metadata": {},
   "outputs": [],
   "source": [
    "data['End'] = data['Customer End'].apply(lambda x: x.replace(day=1))\n",
    "data['Begin'] = data['Customer Begin'].apply(lambda x: x.replace(day=1))"
   ]
  },
  {
   "cell_type": "code",
   "execution_count": 45,
   "metadata": {},
   "outputs": [],
   "source": [
    "data['Churned'] = data['Churned'].astype('float')"
   ]
  },
  {
   "cell_type": "code",
   "execution_count": 54,
   "metadata": {},
   "outputs": [
    {
     "data": {
      "text/html": [
       "<div>\n",
       "<style>\n",
       "    .dataframe thead tr:only-child th {\n",
       "        text-align: right;\n",
       "    }\n",
       "\n",
       "    .dataframe thead th {\n",
       "        text-align: left;\n",
       "    }\n",
       "\n",
       "    .dataframe tbody tr th {\n",
       "        vertical-align: top;\n",
       "    }\n",
       "</style>\n",
       "<table border=\"1\" class=\"dataframe\">\n",
       "  <thead>\n",
       "    <tr style=\"text-align: right;\">\n",
       "      <th></th>\n",
       "      <th>Client number</th>\n",
       "      <th>Region</th>\n",
       "      <th>Customer Begin</th>\n",
       "      <th>Customer End</th>\n",
       "      <th>Churned</th>\n",
       "      <th>Margin Group</th>\n",
       "      <th>Account Size</th>\n",
       "      <th>start_year</th>\n",
       "      <th>start_month</th>\n",
       "      <th>end_year</th>\n",
       "      <th>end_month</th>\n",
       "    </tr>\n",
       "  </thead>\n",
       "  <tbody>\n",
       "    <tr>\n",
       "      <th>0</th>\n",
       "      <td>6025</td>\n",
       "      <td>Los Angeles</td>\n",
       "      <td>2016-06-24</td>\n",
       "      <td>2017-01-27</td>\n",
       "      <td>0.0</td>\n",
       "      <td>High</td>\n",
       "      <td>Medium</td>\n",
       "      <td>2016</td>\n",
       "      <td>6</td>\n",
       "      <td>2017</td>\n",
       "      <td>1</td>\n",
       "    </tr>\n",
       "    <tr>\n",
       "      <th>1</th>\n",
       "      <td>7586</td>\n",
       "      <td>Los Angeles</td>\n",
       "      <td>2016-03-10</td>\n",
       "      <td>2017-01-24</td>\n",
       "      <td>0.0</td>\n",
       "      <td>High</td>\n",
       "      <td>Large</td>\n",
       "      <td>2016</td>\n",
       "      <td>3</td>\n",
       "      <td>2017</td>\n",
       "      <td>1</td>\n",
       "    </tr>\n",
       "    <tr>\n",
       "      <th>2</th>\n",
       "      <td>9740</td>\n",
       "      <td>Los Angeles</td>\n",
       "      <td>2016-02-26</td>\n",
       "      <td>2016-12-09</td>\n",
       "      <td>1.0</td>\n",
       "      <td>High</td>\n",
       "      <td>Large</td>\n",
       "      <td>2016</td>\n",
       "      <td>2</td>\n",
       "      <td>2016</td>\n",
       "      <td>12</td>\n",
       "    </tr>\n",
       "    <tr>\n",
       "      <th>3</th>\n",
       "      <td>1112</td>\n",
       "      <td>Toronto</td>\n",
       "      <td>2016-07-05</td>\n",
       "      <td>2016-10-28</td>\n",
       "      <td>1.0</td>\n",
       "      <td>Low</td>\n",
       "      <td>Small</td>\n",
       "      <td>2016</td>\n",
       "      <td>7</td>\n",
       "      <td>2016</td>\n",
       "      <td>10</td>\n",
       "    </tr>\n",
       "    <tr>\n",
       "      <th>4</th>\n",
       "      <td>1223</td>\n",
       "      <td>Toronto</td>\n",
       "      <td>2015-04-27</td>\n",
       "      <td>2017-01-31</td>\n",
       "      <td>0.0</td>\n",
       "      <td>Low</td>\n",
       "      <td>Medium</td>\n",
       "      <td>2015</td>\n",
       "      <td>4</td>\n",
       "      <td>2017</td>\n",
       "      <td>1</td>\n",
       "    </tr>\n",
       "  </tbody>\n",
       "</table>\n",
       "</div>"
      ],
      "text/plain": [
       "   Client number       Region Customer Begin Customer End  Churned  \\\n",
       "0           6025  Los Angeles     2016-06-24   2017-01-27      0.0   \n",
       "1           7586  Los Angeles     2016-03-10   2017-01-24      0.0   \n",
       "2           9740  Los Angeles     2016-02-26   2016-12-09      1.0   \n",
       "3           1112      Toronto     2016-07-05   2016-10-28      1.0   \n",
       "4           1223      Toronto     2015-04-27   2017-01-31      0.0   \n",
       "\n",
       "  Margin Group Account Size  start_year  start_month  end_year  end_month  \n",
       "0         High       Medium        2016            6      2017          1  \n",
       "1         High        Large        2016            3      2017          1  \n",
       "2         High        Large        2016            2      2016         12  \n",
       "3          Low        Small        2016            7      2016         10  \n",
       "4          Low       Medium        2015            4      2017          1  "
      ]
     },
     "execution_count": 54,
     "metadata": {},
     "output_type": "execute_result"
    }
   ],
   "source": [
    "data.head()"
   ]
  },
  {
   "cell_type": "code",
   "execution_count": 334,
   "metadata": {},
   "outputs": [],
   "source": [
    "dates = [pd.to_datetime('2011-09'), pd.to_datetime('2017-01')]"
   ]
  },
  {
   "cell_type": "code",
   "execution_count": 335,
   "metadata": {},
   "outputs": [],
   "source": [
    "import datetime\n",
    "from dateutil.rrule import rrule, MONTHLY\n",
    "\n",
    "strt_dt = dates[0]\n",
    "end_dt = dates[1]\n",
    "\n",
    "dates = [dt for dt in rrule(MONTHLY, dtstart=strt_dt, until=end_dt)]"
   ]
  },
  {
   "cell_type": "code",
   "execution_count": 336,
   "metadata": {},
   "outputs": [],
   "source": [
    "dates = sorted(dates)"
   ]
  },
  {
   "cell_type": "code",
   "execution_count": 364,
   "metadata": {},
   "outputs": [],
   "source": [
    "def within_time_period(start, end, target, churned):\n",
    "    \"\"\"\n",
    "    Return true if the target time is between start and end timestamp\n",
    "    \"\"\"\n",
    "    if (target >= start) and (target < end):\n",
    "        return False\n",
    "    elif (target == end) and churned == 0:\n",
    "        return False\n",
    "    elif (target == end) and churned == 1:\n",
    "        return True\n",
    "    else:\n",
    "        return None"
   ]
  },
  {
   "cell_type": "markdown",
   "metadata": {},
   "source": [
    "Table: column is each month in the data, each row is the data for that ID"
   ]
  },
  {
   "cell_type": "code",
   "execution_count": 341,
   "metadata": {
    "collapsed": true
   },
   "outputs": [],
   "source": [
    "table = pd.DataFrame(columns=dates, index=range(data.shape[0]))"
   ]
  },
  {
   "cell_type": "code",
   "execution_count": 342,
   "metadata": {
    "collapsed": true
   },
   "outputs": [],
   "source": [
    "nrow, ncol  = table.shape"
   ]
  },
  {
   "cell_type": "code",
   "execution_count": 347,
   "metadata": {},
   "outputs": [],
   "source": [
    "# fill the number to the data. \n",
    "for i in range(nrow):\n",
    "    start = data['Begin'][i]\n",
    "    end = data['End'][i]\n",
    "    churned = data['Churned'][i]\n",
    "    for j in range(ncol):\n",
    "        result = within_time_period(start, end, dates[j], churned)\n",
    "        table.iloc[i, j] = result"
   ]
  },
  {
   "cell_type": "code",
   "execution_count": 346,
   "metadata": {},
   "outputs": [
    {
     "data": {
      "text/html": [
       "<div>\n",
       "<style>\n",
       "    .dataframe thead tr:only-child th {\n",
       "        text-align: right;\n",
       "    }\n",
       "\n",
       "    .dataframe thead th {\n",
       "        text-align: left;\n",
       "    }\n",
       "\n",
       "    .dataframe tbody tr th {\n",
       "        vertical-align: top;\n",
       "    }\n",
       "</style>\n",
       "<table border=\"1\" class=\"dataframe\">\n",
       "  <thead>\n",
       "    <tr style=\"text-align: right;\">\n",
       "      <th></th>\n",
       "      <th>Client number</th>\n",
       "      <th>Region</th>\n",
       "      <th>Customer Begin</th>\n",
       "      <th>Customer End</th>\n",
       "      <th>Churned</th>\n",
       "      <th>Margin Group</th>\n",
       "      <th>Account Size</th>\n",
       "      <th>End</th>\n",
       "      <th>Begin</th>\n",
       "    </tr>\n",
       "  </thead>\n",
       "  <tbody>\n",
       "    <tr>\n",
       "      <th>0</th>\n",
       "      <td>6025</td>\n",
       "      <td>Los Angeles</td>\n",
       "      <td>2016-06-24</td>\n",
       "      <td>2017-01-27</td>\n",
       "      <td>False</td>\n",
       "      <td>High</td>\n",
       "      <td>Medium</td>\n",
       "      <td>2017-01-01</td>\n",
       "      <td>2016-06-01</td>\n",
       "    </tr>\n",
       "    <tr>\n",
       "      <th>1</th>\n",
       "      <td>7586</td>\n",
       "      <td>Los Angeles</td>\n",
       "      <td>2016-03-10</td>\n",
       "      <td>2017-01-24</td>\n",
       "      <td>False</td>\n",
       "      <td>High</td>\n",
       "      <td>Large</td>\n",
       "      <td>2017-01-01</td>\n",
       "      <td>2016-03-01</td>\n",
       "    </tr>\n",
       "    <tr>\n",
       "      <th>2</th>\n",
       "      <td>9740</td>\n",
       "      <td>Los Angeles</td>\n",
       "      <td>2016-02-26</td>\n",
       "      <td>2016-12-09</td>\n",
       "      <td>True</td>\n",
       "      <td>High</td>\n",
       "      <td>Large</td>\n",
       "      <td>2016-12-01</td>\n",
       "      <td>2016-02-01</td>\n",
       "    </tr>\n",
       "    <tr>\n",
       "      <th>3</th>\n",
       "      <td>1112</td>\n",
       "      <td>Toronto</td>\n",
       "      <td>2016-07-05</td>\n",
       "      <td>2016-10-28</td>\n",
       "      <td>True</td>\n",
       "      <td>Low</td>\n",
       "      <td>Small</td>\n",
       "      <td>2016-10-01</td>\n",
       "      <td>2016-07-01</td>\n",
       "    </tr>\n",
       "    <tr>\n",
       "      <th>4</th>\n",
       "      <td>1223</td>\n",
       "      <td>Toronto</td>\n",
       "      <td>2015-04-27</td>\n",
       "      <td>2017-01-31</td>\n",
       "      <td>False</td>\n",
       "      <td>Low</td>\n",
       "      <td>Medium</td>\n",
       "      <td>2017-01-01</td>\n",
       "      <td>2015-04-01</td>\n",
       "    </tr>\n",
       "  </tbody>\n",
       "</table>\n",
       "</div>"
      ],
      "text/plain": [
       "   Client number       Region Customer Begin Customer End  Churned  \\\n",
       "0           6025  Los Angeles     2016-06-24   2017-01-27    False   \n",
       "1           7586  Los Angeles     2016-03-10   2017-01-24    False   \n",
       "2           9740  Los Angeles     2016-02-26   2016-12-09     True   \n",
       "3           1112      Toronto     2016-07-05   2016-10-28     True   \n",
       "4           1223      Toronto     2015-04-27   2017-01-31    False   \n",
       "\n",
       "  Margin Group Account Size        End      Begin  \n",
       "0         High       Medium 2017-01-01 2016-06-01  \n",
       "1         High        Large 2017-01-01 2016-03-01  \n",
       "2         High        Large 2016-12-01 2016-02-01  \n",
       "3          Low        Small 2016-10-01 2016-07-01  \n",
       "4          Low       Medium 2017-01-01 2015-04-01  "
      ]
     },
     "execution_count": 346,
     "metadata": {},
     "output_type": "execute_result"
    }
   ],
   "source": [
    "data.head()"
   ]
  },
  {
   "cell_type": "code",
   "execution_count": 365,
   "metadata": {},
   "outputs": [],
   "source": [
    "rates = np.mean(table, axis = 0)[-5:]"
   ]
  },
  {
   "cell_type": "markdown",
   "metadata": {},
   "source": [
    "Overall Mean after test began:"
   ]
  },
  {
   "cell_type": "code",
   "execution_count": 367,
   "metadata": {},
   "outputs": [
    {
     "data": {
      "text/plain": [
       "0.038851870632770624"
      ]
     },
     "execution_count": 367,
     "metadata": {},
     "output_type": "execute_result"
    }
   ],
   "source": [
    "np.mean(rates)"
   ]
  },
  {
   "cell_type": "markdown",
   "metadata": {},
   "source": [
    "# Write up"
   ]
  },
  {
   "cell_type": "markdown",
   "metadata": {},
   "source": [
    "## Question 2"
   ]
  },
  {
   "cell_type": "markdown",
   "metadata": {},
   "source": [
    "AB-test makes sense in this case because we are trying to compare the churn rate of two different groups, and AB-test is a method to give a statistical conclusion. \n",
    "\n",
    "Another method can be linear regression that studies the relationship between margin level and churned rate. But it is hard for linear regression to study exactly the behaviors of two groups, in our case, margin 15% and 18%. So an AB-test is neccessary. \n"
   ]
  },
  {
   "cell_type": "markdown",
   "metadata": {},
   "source": [
    "## Quesiton 3"
   ]
  },
  {
   "cell_type": "markdown",
   "metadata": {},
   "source": [
    "To examine the effect of raising the margin, we would run a AB test to our users. We would use the group of users with 15% margin as our control group, and the group of users with higher margin, 18%, as our experiment group. Then we would study whether the churned rate is the same for these two group of users. The type of A/B testing we will use is test of propotion as the question of interest is the churn rate of the two groups. \n",
    "\n",
    "The framework of the A/B test will be designed with following steps: \n",
    "\n",
    "1. with the table above, calculate the overal average churn rate grouped by two groups. say the two churn rate is p1 and p2 for control group and experiment group, respectively\n",
    "\n",
    "2. because for each customer, churn or not is a bernouli trial with $\\pi$, the variance of the two churn rate is $\\frac{\\pi*(1-\\pi)}{n}$, where n is the number of total client. Therefore, each p follows the normal distribution: $N(\\pi, \\frac{\\pi*(1-\\pi)}{n})$\n",
    "\n",
    "3. set hypothesis \n",
    "$$H_{0}: \\pi_{1} = \\pi_{2}$$\n",
    "$$H_{1}: \\pi_{1} \\neq \\pi_{2}$$\n",
    "\n",
    "4. calculate the statistics of the as $\\frac{p1-p2}{\\frac{p1-(1-p1}{n1}+\\frac{p2-(1-p2}{n2}}$ follows N(0,1)\n",
    "\n",
    "5. finally compare the statistics against a cutoff point or \\alpha level to decide reject $$H_{0}$$ or not. \n",
    "\n",
    "To avoid affecting users, we group the users into different segments by their location and apply let users from one region all be control or test group. \n",
    "\n",
    "\n",
    "The potential rish is that users may realize they are in test and are paying different price for the catering food. "
   ]
  },
  {
   "cell_type": "markdown",
   "metadata": {},
   "source": [
    "## Question 4"
   ]
  },
  {
   "cell_type": "markdown",
   "metadata": {},
   "source": [
    "We would run hypothesis test for a population mean on our data. \n",
    "\n",
    "We choose this test because we are trying to study the effect of different margin levels on the churned rate. So we will need to compare the average churned rate between two groups of users of different margin levels. If users with higher margins have higher, or lower churned rate statistically, then we can conclude that margin level does affect churned rate. \n",
    "\n",
    "Because we focus on the average value, which is the population mean of two groups, we are using hypothesis test for population mean. "
   ]
  },
  {
   "cell_type": "markdown",
   "metadata": {},
   "source": [
    "## Question 5"
   ]
  },
  {
   "cell_type": "markdown",
   "metadata": {},
   "source": [
    "The null hyputhesis test is that two groups, either with high or low margin level, will have the same churned rate."
   ]
  },
  {
   "cell_type": "markdown",
   "metadata": {},
   "source": [
    "## Question 6"
   ]
  },
  {
   "cell_type": "markdown",
   "metadata": {},
   "source": [
    "Alternative hypothesis will be two groups with different margin level will have different population mean. "
   ]
  },
  {
   "cell_type": "markdown",
   "metadata": {},
   "source": [
    "## Question 7"
   ]
  },
  {
   "cell_type": "markdown",
   "metadata": {},
   "source": [
    "p value"
   ]
  },
  {
   "cell_type": "markdown",
   "metadata": {},
   "source": [
    "## Question 8\n",
    "\n",
    "1. as a starting point, we define the effect size as 0.1, which means lower margin group - control group has a 0.1 higher churn rate than experiment group\n",
    "\n",
    "2. x: likelihood seeing this data, y: effective size. the plot is a decreasing trend"
   ]
  },
  {
   "cell_type": "code",
   "execution_count": null,
   "metadata": {
    "collapsed": true
   },
   "outputs": [],
   "source": []
  }
 ],
 "metadata": {
  "kernelspec": {
   "display_name": "Python 2",
   "language": "python",
   "name": "python2"
  },
  "language_info": {
   "codemirror_mode": {
    "name": "ipython",
    "version": 2
   },
   "file_extension": ".py",
   "mimetype": "text/x-python",
   "name": "python",
   "nbconvert_exporter": "python",
   "pygments_lexer": "ipython2",
   "version": "2.7.13"
  }
 },
 "nbformat": 4,
 "nbformat_minor": 2
}
