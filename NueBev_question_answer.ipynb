{
 "cells": [
  {
   "cell_type": "markdown",
   "metadata": {},
   "source": [
    "# Question 1"
   ]
  },
  {
   "cell_type": "code",
   "execution_count": 1,
   "metadata": {
    "collapsed": true
   },
   "outputs": [],
   "source": [
    "import pandas as pd\n",
    "import numpy as np"
   ]
  },
  {
   "cell_type": "code",
   "execution_count": 2,
   "metadata": {
    "collapsed": true
   },
   "outputs": [],
   "source": [
    "data = pd.read_csv('NueBevABTest.csv')"
   ]
  },
  {
   "cell_type": "code",
   "execution_count": 3,
   "metadata": {
    "collapsed": true
   },
   "outputs": [],
   "source": [
    "data['Customer Begin'] = pd.to_datetime(data['Customer Begin'])\n",
    "data['Customer End'] = pd.to_datetime(data['Customer End'], format='%Y-%m-%d')"
   ]
  },
  {
   "cell_type": "code",
   "execution_count": 4,
   "metadata": {
    "collapsed": true
   },
   "outputs": [],
   "source": [
    "data['End'] = data['Customer End'].apply(lambda x: x.replace(day=1))\n",
    "data['Begin'] = data['Customer Begin'].apply(lambda x: x.replace(day=1))"
   ]
  },
  {
   "cell_type": "code",
   "execution_count": 5,
   "metadata": {
    "collapsed": true
   },
   "outputs": [],
   "source": [
    "data['Churned'] = data['Churned'].astype('float')"
   ]
  },
  {
   "cell_type": "code",
   "execution_count": 6,
   "metadata": {
    "collapsed": true
   },
   "outputs": [],
   "source": [
    "dates = [pd.to_datetime('2011-09'), pd.to_datetime('2017-01')]"
   ]
  },
  {
   "cell_type": "code",
   "execution_count": 7,
   "metadata": {
    "collapsed": true
   },
   "outputs": [],
   "source": [
    "import datetime\n",
    "from dateutil.rrule import rrule, MONTHLY\n",
    "\n",
    "strt_dt = dates[0]\n",
    "end_dt = dates[1]\n",
    "\n",
    "dates = [dt for dt in rrule(MONTHLY, dtstart=strt_dt, until=end_dt)]"
   ]
  },
  {
   "cell_type": "code",
   "execution_count": 8,
   "metadata": {
    "collapsed": true
   },
   "outputs": [],
   "source": [
    "dates = sorted(dates)"
   ]
  },
  {
   "cell_type": "code",
   "execution_count": 9,
   "metadata": {
    "collapsed": true
   },
   "outputs": [],
   "source": [
    "def within_time_period(start, end, target, churned):\n",
    "    \"\"\"\n",
    "    Return true if the target time is between start and end timestamp\n",
    "    \"\"\"\n",
    "    if (target >= start) and (target < end):\n",
    "        return False\n",
    "    elif (target == end) and churned == 0:\n",
    "        return False\n",
    "    elif (target == end) and churned == 1:\n",
    "        return True\n",
    "    else:\n",
    "        return None"
   ]
  },
  {
   "cell_type": "code",
   "execution_count": 10,
   "metadata": {
    "collapsed": true
   },
   "outputs": [],
   "source": [
    "table = pd.DataFrame(columns=dates, index=range(data.shape[0]))"
   ]
  },
  {
   "cell_type": "code",
   "execution_count": 11,
   "metadata": {
    "collapsed": true
   },
   "outputs": [],
   "source": [
    "nrow, ncol  = table.shape"
   ]
  },
  {
   "cell_type": "code",
   "execution_count": 12,
   "metadata": {
    "collapsed": true
   },
   "outputs": [],
   "source": [
    "# fill the number to the data. \n",
    "for i in range(nrow):\n",
    "    start = data['Begin'][i]\n",
    "    end = data['End'][i]\n",
    "    churned = data['Churned'][i]\n",
    "    for j in range(ncol):\n",
    "        result = within_time_period(start, end, dates[j], churned)\n",
    "        table.iloc[i, j] = result"
   ]
  },
  {
   "cell_type": "code",
   "execution_count": 13,
   "metadata": {
    "collapsed": true
   },
   "outputs": [],
   "source": [
    "rates = np.mean(table, axis = 0)[-5:]"
   ]
  },
  {
   "cell_type": "markdown",
   "metadata": {},
   "source": [
    "## Churn rates for each month"
   ]
  },
  {
   "cell_type": "code",
   "execution_count": 14,
   "metadata": {},
   "outputs": [
    {
     "data": {
      "text/plain": [
       "2016-09-01    0.031496\n",
       "2016-10-01    0.077236\n",
       "2016-11-01    0.044053\n",
       "2016-12-01    0.041475\n",
       "2017-01-01    0.000000\n",
       "dtype: float64"
      ]
     },
     "execution_count": 14,
     "metadata": {},
     "output_type": "execute_result"
    }
   ],
   "source": [
    "rates"
   ]
  },
  {
   "cell_type": "markdown",
   "metadata": {},
   "source": [
    "## Overall churn rate"
   ]
  },
  {
   "cell_type": "code",
   "execution_count": 15,
   "metadata": {},
   "outputs": [
    {
     "data": {
      "text/plain": [
       "0.18110236220472442"
      ]
     },
     "execution_count": 15,
     "metadata": {},
     "output_type": "execute_result"
    }
   ],
   "source": [
    "data.Churned.mean()"
   ]
  },
  {
   "cell_type": "markdown",
   "metadata": {},
   "source": [
    "# Question 2"
   ]
  },
  {
   "cell_type": "markdown",
   "metadata": {},
   "source": [
    "AB-test makes sense in this case because we are trying to compare the churn rate of two different groups, and AB-test is a method to give a statistical conclusion. \n",
    "\n",
    "Another method can be linear regression that studies the relationship between margin level and churned rate. But it is hard for linear regression to study exactly the behaviors of two groups, in our case, margin 15% and 18%. So an AB-test is neccessary. \n"
   ]
  },
  {
   "cell_type": "markdown",
   "metadata": {},
   "source": [
    "# Quesiton 3"
   ]
  },
  {
   "cell_type": "markdown",
   "metadata": {},
   "source": [
    "To examine the effect of raising the margin, we would run a AB test to our users. We would use the group of users with 15% margin as our control group, and the group of users with higher margin, 18%, as our experiment group. Then we would study whether the churned rate is the same for these two group of users. The type of A/B testing we will use is test of propotion as the question of interest is the churn rate of the two groups. \n",
    "\n",
    "The framework of the A/B test will be designed with following steps: \n",
    "\n",
    "1. with the table above, calculate the overal average churn rate grouped by two groups. say the two churn rate is p1 and p2 for control group and experiment group, respectively\n",
    "\n",
    "2. because for each customer, churn or not is a bernouli trial with $\\pi$, the variance of the two churn rate is $\\frac{\\pi*(1-\\pi)}{n}$, where n is the number of total client. Therefore, each p follows the normal distribution: $N(\\pi, \\frac{\\pi*(1-\\pi)}{n})$\n",
    "\n",
    "3. set hypothesis \n",
    "$$H_{0}: \\pi_{1} = \\pi_{2}$$\n",
    "$$H_{1}: \\pi_{1} \\neq \\pi_{2}$$\n",
    "\n",
    "4. calculate the statistics of the as $\\frac{p_{1}-p_{2}}{\\frac{p_{1}-(1-p_{1})}{n_{1}}+\\frac{p_{2}-(1-p_{2})}{n_{2}}}$ follows N(0,1)\n",
    "\n",
    "5. finally compare the statistics against a cutoff point or $\\alpha$ level to decide reject $H_{0}$ or not. \n",
    "\n",
    "To avoid affecting users, we group the users into different segments by their location and apply let users from one region all be control or test group. \n",
    "\n",
    "\n",
    "The potential risk is that users may realize they are in test and are paying different price for the catering food. "
   ]
  },
  {
   "cell_type": "markdown",
   "metadata": {},
   "source": [
    "## Question 4"
   ]
  },
  {
   "cell_type": "markdown",
   "metadata": {},
   "source": [
    "We would run a hypothesis test for a population mean on our data. \n",
    "\n",
    "We choose this test because we are trying to study the effect of different margin levels on the churned rate. So we will need to compare the average churned rate between two groups of users of different margin levels. If users with higher margins have higher, or lower churned rate statistically, then we can conclude that margin level does affect churned rate. \n",
    "\n",
    "Because we focus on the average value, which is the population mean of two groups, we are using a hypothesis test for population mean. "
   ]
  },
  {
   "cell_type": "markdown",
   "metadata": {},
   "source": [
    "## Question 5"
   ]
  },
  {
   "cell_type": "markdown",
   "metadata": {},
   "source": [
    "The null hyputhesis test is that two groups, either with high or low margin level, will have the same churned rate."
   ]
  },
  {
   "cell_type": "markdown",
   "metadata": {},
   "source": [
    "## Question 6"
   ]
  },
  {
   "cell_type": "markdown",
   "metadata": {},
   "source": [
    "Alternative hypothesis will be two groups with different margin level will have different population mean. "
   ]
  },
  {
   "cell_type": "markdown",
   "metadata": {},
   "source": [
    "## Question 7"
   ]
  },
  {
   "cell_type": "markdown",
   "metadata": {},
   "source": [
    "We call this p-value."
   ]
  },
  {
   "cell_type": "markdown",
   "metadata": {},
   "source": [
    "## Question 8\n",
    "\n",
    "1. As a starting point, we define the effect size as 0.1, which means lower margin group - control group has a 0.1 higher churn rate than experiment group\n",
    "\n",
    "2. x: likelihood seeing this data, y: effective size. the plot is a decreasing trend\n"
   ]
  },
  {
   "cell_type": "markdown",
   "metadata": {
    "collapsed": true
   },
   "source": []
  },
  {
   "cell_type": "code",
   "execution_count": null,
   "metadata": {
    "collapsed": true
   },
   "outputs": [],
   "source": []
  }
 ],
 "metadata": {
  "kernelspec": {
   "display_name": "Python 2",
   "language": "python",
   "name": "python2"
  },
  "language_info": {
   "codemirror_mode": {
    "name": "ipython",
    "version": 2
   },
   "file_extension": ".py",
   "mimetype": "text/x-python",
   "name": "python",
   "nbconvert_exporter": "python",
   "pygments_lexer": "ipython2",
   "version": "2.7.13"
  }
 },
 "nbformat": 4,
 "nbformat_minor": 2
}
