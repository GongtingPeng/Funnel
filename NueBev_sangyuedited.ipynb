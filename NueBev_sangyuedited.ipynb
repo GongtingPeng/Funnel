{
 "cells": [
  {
   "cell_type": "markdown",
   "metadata": {},
   "source": [
    "### churn rate for sep"
   ]
  },
  {
   "cell_type": "code",
   "execution_count": 220,
   "metadata": {
    "collapsed": true
   },
   "outputs": [],
   "source": [
    "import pandas as pd\n",
    "import numpy as np"
   ]
  },
  {
   "cell_type": "code",
   "execution_count": 221,
   "metadata": {
    "collapsed": true
   },
   "outputs": [],
   "source": [
    "data = pd.read_csv('NueBevABTest.csv')"
   ]
  },
  {
   "cell_type": "code",
   "execution_count": 222,
   "metadata": {
    "collapsed": true
   },
   "outputs": [],
   "source": [
    "data['Customer Begin'] = pd.to_datetime(data['Customer Begin'])\n",
    "data['Customer End'] = pd.to_datetime(data['Customer End'], format='%Y-%m-%d')"
   ]
  },
  {
   "cell_type": "code",
   "execution_count": 223,
   "metadata": {
    "collapsed": true
   },
   "outputs": [],
   "source": [
    "data['End'] = data['Customer End'].apply(lambda x: x.replace(day=1))\n",
    "data['Begin'] = data['Customer Begin'].apply(lambda x: x.replace(day=1))"
   ]
  },
  {
   "cell_type": "code",
   "execution_count": 224,
   "metadata": {
    "collapsed": true
   },
   "outputs": [],
   "source": [
    "data['Churned'] = data['Churned'].astype('float')"
   ]
  },
  {
   "cell_type": "code",
   "execution_count": 225,
   "metadata": {},
   "outputs": [
    {
     "data": {
      "text/html": [
       "<div>\n",
       "<table border=\"1\" class=\"dataframe\">\n",
       "  <thead>\n",
       "    <tr style=\"text-align: right;\">\n",
       "      <th></th>\n",
       "      <th>Client number</th>\n",
       "      <th>Region</th>\n",
       "      <th>Customer Begin</th>\n",
       "      <th>Customer End</th>\n",
       "      <th>Churned</th>\n",
       "      <th>Margin Group</th>\n",
       "      <th>Account Size</th>\n",
       "      <th>End</th>\n",
       "      <th>Begin</th>\n",
       "    </tr>\n",
       "  </thead>\n",
       "  <tbody>\n",
       "    <tr>\n",
       "      <th>0</th>\n",
       "      <td>6025</td>\n",
       "      <td>Los Angeles</td>\n",
       "      <td>2016-06-24</td>\n",
       "      <td>2017-01-27</td>\n",
       "      <td>0.0</td>\n",
       "      <td>High</td>\n",
       "      <td>Medium</td>\n",
       "      <td>2017-01-01</td>\n",
       "      <td>2016-06-01</td>\n",
       "    </tr>\n",
       "    <tr>\n",
       "      <th>1</th>\n",
       "      <td>7586</td>\n",
       "      <td>Los Angeles</td>\n",
       "      <td>2016-03-10</td>\n",
       "      <td>2017-01-24</td>\n",
       "      <td>0.0</td>\n",
       "      <td>High</td>\n",
       "      <td>Large</td>\n",
       "      <td>2017-01-01</td>\n",
       "      <td>2016-03-01</td>\n",
       "    </tr>\n",
       "    <tr>\n",
       "      <th>2</th>\n",
       "      <td>9740</td>\n",
       "      <td>Los Angeles</td>\n",
       "      <td>2016-02-26</td>\n",
       "      <td>2016-12-09</td>\n",
       "      <td>1.0</td>\n",
       "      <td>High</td>\n",
       "      <td>Large</td>\n",
       "      <td>2016-12-01</td>\n",
       "      <td>2016-02-01</td>\n",
       "    </tr>\n",
       "    <tr>\n",
       "      <th>3</th>\n",
       "      <td>1112</td>\n",
       "      <td>Toronto</td>\n",
       "      <td>2016-07-05</td>\n",
       "      <td>2016-10-28</td>\n",
       "      <td>1.0</td>\n",
       "      <td>Low</td>\n",
       "      <td>Small</td>\n",
       "      <td>2016-10-01</td>\n",
       "      <td>2016-07-01</td>\n",
       "    </tr>\n",
       "    <tr>\n",
       "      <th>4</th>\n",
       "      <td>1223</td>\n",
       "      <td>Toronto</td>\n",
       "      <td>2015-04-27</td>\n",
       "      <td>2017-01-31</td>\n",
       "      <td>0.0</td>\n",
       "      <td>Low</td>\n",
       "      <td>Medium</td>\n",
       "      <td>2017-01-01</td>\n",
       "      <td>2015-04-01</td>\n",
       "    </tr>\n",
       "  </tbody>\n",
       "</table>\n",
       "</div>"
      ],
      "text/plain": [
       "   Client number       Region Customer Begin Customer End  Churned  \\\n",
       "0           6025  Los Angeles     2016-06-24   2017-01-27      0.0   \n",
       "1           7586  Los Angeles     2016-03-10   2017-01-24      0.0   \n",
       "2           9740  Los Angeles     2016-02-26   2016-12-09      1.0   \n",
       "3           1112      Toronto     2016-07-05   2016-10-28      1.0   \n",
       "4           1223      Toronto     2015-04-27   2017-01-31      0.0   \n",
       "\n",
       "  Margin Group Account Size        End      Begin  \n",
       "0         High       Medium 2017-01-01 2016-06-01  \n",
       "1         High        Large 2017-01-01 2016-03-01  \n",
       "2         High        Large 2016-12-01 2016-02-01  \n",
       "3          Low        Small 2016-10-01 2016-07-01  \n",
       "4          Low       Medium 2017-01-01 2015-04-01  "
      ]
     },
     "execution_count": 225,
     "metadata": {},
     "output_type": "execute_result"
    }
   ],
   "source": [
    "data.head()"
   ]
  },
  {
   "cell_type": "code",
   "execution_count": 226,
   "metadata": {
    "collapsed": true
   },
   "outputs": [],
   "source": [
    "dates = [pd.to_datetime('2011-09'), pd.to_datetime('2017-01')]"
   ]
  },
  {
   "cell_type": "code",
   "execution_count": 227,
   "metadata": {
    "collapsed": true
   },
   "outputs": [],
   "source": [
    "import datetime\n",
    "from dateutil.rrule import rrule, MONTHLY\n",
    "\n",
    "strt_dt = dates[0]\n",
    "end_dt = dates[1]\n",
    "\n",
    "dates = [dt for dt in rrule(MONTHLY, dtstart=strt_dt, until=end_dt)]"
   ]
  },
  {
   "cell_type": "code",
   "execution_count": 228,
   "metadata": {
    "collapsed": true
   },
   "outputs": [],
   "source": [
    "dates = sorted(dates)"
   ]
  },
  {
   "cell_type": "code",
   "execution_count": 229,
   "metadata": {
    "collapsed": true
   },
   "outputs": [],
   "source": [
    "def within_time_period(start, end, target, churned):\n",
    "    \"\"\"\n",
    "    Return true if the target time is between start and end timestamp\n",
    "    \"\"\"\n",
    "    if (target >= start) and (target < end):\n",
    "        return False\n",
    "    elif (target == end) and churned == 0:\n",
    "        return False\n",
    "    elif (target == end) and churned == 1:\n",
    "        return True\n",
    "    else:\n",
    "        return None"
   ]
  },
  {
   "cell_type": "code",
   "execution_count": 230,
   "metadata": {
    "collapsed": true
   },
   "outputs": [],
   "source": [
    "table = pd.DataFrame(columns=dates, index=range(data.shape[0]))"
   ]
  },
  {
   "cell_type": "code",
   "execution_count": 231,
   "metadata": {
    "collapsed": true
   },
   "outputs": [],
   "source": [
    "nrow, ncol  = table.shape"
   ]
  },
  {
   "cell_type": "code",
   "execution_count": 232,
   "metadata": {
    "collapsed": true
   },
   "outputs": [],
   "source": [
    "# fill the number to the data. \n",
    "for i in range(nrow):\n",
    "    start = data['Begin'][i]\n",
    "    end = data['End'][i]\n",
    "    churned = data['Churned'][i]\n",
    "    for j in range(ncol):\n",
    "        result = within_time_period(start, end, dates[j], churned)\n",
    "        table.iloc[i, j] = result"
   ]
  },
  {
   "cell_type": "code",
   "execution_count": 233,
   "metadata": {
    "collapsed": true
   },
   "outputs": [],
   "source": [
    "rates = np.mean(table, axis = 0)[-5:]"
   ]
  },
  {
   "cell_type": "markdown",
   "metadata": {},
   "source": [
    "### rate per month"
   ]
  },
  {
   "cell_type": "code",
   "execution_count": 234,
   "metadata": {},
   "outputs": [
    {
     "data": {
      "text/plain": [
       "2016-09-01    0.031496\n",
       "2016-10-01    0.077236\n",
       "2016-11-01    0.044053\n",
       "2016-12-01    0.041475\n",
       "2017-01-01    0.000000\n",
       "dtype: float64"
      ]
     },
     "execution_count": 234,
     "metadata": {},
     "output_type": "execute_result"
    }
   ],
   "source": [
    "rates"
   ]
  },
  {
   "cell_type": "markdown",
   "metadata": {},
   "source": [
    "## overall rate per month"
   ]
  },
  {
   "cell_type": "code",
   "execution_count": 235,
   "metadata": {},
   "outputs": [
    {
     "data": {
      "text/plain": [
       "0.038851870632770624"
      ]
     },
     "execution_count": 235,
     "metadata": {},
     "output_type": "execute_result"
    }
   ],
   "source": [
    "np.mean(rates)"
   ]
  },
  {
   "cell_type": "code",
   "execution_count": null,
   "metadata": {
    "collapsed": true
   },
   "outputs": [],
   "source": []
  },
  {
   "cell_type": "markdown",
   "metadata": {},
   "source": [
    "### churn rate for sep"
   ]
  },
  {
   "cell_type": "code",
   "execution_count": 23,
   "metadata": {},
   "outputs": [
    {
     "data": {
      "text/plain": [
       "True"
      ]
     },
     "execution_count": 23,
     "metadata": {},
     "output_type": "execute_result"
    }
   ],
   "source": [
    "pd.to_datetime('2011-09') < pd.to_datetime('2017-01')"
   ]
  },
  {
   "cell_type": "code",
   "execution_count": 24,
   "metadata": {
    "collapsed": true
   },
   "outputs": [],
   "source": [
    "client_join_in_sep_or_before = data[data.Begin <= pd.to_datetime('2016-09')]"
   ]
  },
  {
   "cell_type": "code",
   "execution_count": 27,
   "metadata": {},
   "outputs": [
    {
     "data": {
      "text/plain": [
       "2017-01-01    208\n",
       "2016-10-01     19\n",
       "2016-11-01     10\n",
       "2016-12-01      9\n",
       "2016-09-01      8\n",
       "Name: End, dtype: int64"
      ]
     },
     "execution_count": 27,
     "metadata": {},
     "output_type": "execute_result"
    }
   ],
   "source": [
    "pd.value_counts(data.End)"
   ]
  },
  {
   "cell_type": "code",
   "execution_count": 28,
   "metadata": {
    "collapsed": true
   },
   "outputs": [],
   "source": [
    "client_quit_in_sep_or_later = client_join_in_sep_or_before[client_join_in_sep_or_before.End >= pd.to_datetime('2016-09')]"
   ]
  },
  {
   "cell_type": "code",
   "execution_count": 41,
   "metadata": {},
   "outputs": [
    {
     "data": {
      "text/plain": [
       "0.031496062992125984"
      ]
     },
     "execution_count": 41,
     "metadata": {},
     "output_type": "execute_result"
    }
   ],
   "source": [
    "churn_sep = client_quit_in_sep_or_later[client_quit_in_sep_or_later.End == pd.to_datetime('2016-09')].Churned.sum()/data.shape[0]\n",
    "churn_sep"
   ]
  },
  {
   "cell_type": "markdown",
   "metadata": {},
   "source": [
    "### churn rate of oct"
   ]
  },
  {
   "cell_type": "code",
   "execution_count": 36,
   "metadata": {
    "collapsed": true,
    "scrolled": false
   },
   "outputs": [],
   "source": [
    "client_stay_after_sep = data[data.End > pd.to_datetime('2016-09')]"
   ]
  },
  {
   "cell_type": "code",
   "execution_count": 42,
   "metadata": {},
   "outputs": [
    {
     "data": {
      "text/plain": [
       "0.07723577235772358"
      ]
     },
     "execution_count": 42,
     "metadata": {},
     "output_type": "execute_result"
    }
   ],
   "source": [
    "churn_oct = client_stay_after_sep[client_stay_after_sep.End ==pd.to_datetime('2016-10')].Churned.sum()/client_stay_after_sep.shape[0]\n",
    "churn_oct"
   ]
  },
  {
   "cell_type": "markdown",
   "metadata": {},
   "source": [
    "### churn rate of nov"
   ]
  },
  {
   "cell_type": "code",
   "execution_count": 39,
   "metadata": {
    "collapsed": true
   },
   "outputs": [],
   "source": [
    "client_stay_after_oct = data[data.End > pd.to_datetime('2016-10')]"
   ]
  },
  {
   "cell_type": "code",
   "execution_count": 43,
   "metadata": {},
   "outputs": [
    {
     "data": {
      "text/plain": [
       "0.04405286343612335"
      ]
     },
     "execution_count": 43,
     "metadata": {},
     "output_type": "execute_result"
    }
   ],
   "source": [
    "churn_nov = client_stay_after_oct[client_stay_after_oct.End ==pd.to_datetime('2016-11')].Churned.sum()/client_stay_after_oct.shape[0]\n",
    "churn_nov"
   ]
  },
  {
   "cell_type": "markdown",
   "metadata": {},
   "source": [
    "### churn rate of dec"
   ]
  },
  {
   "cell_type": "code",
   "execution_count": 44,
   "metadata": {},
   "outputs": [
    {
     "data": {
      "text/plain": [
       "0.041474654377880185"
      ]
     },
     "execution_count": 44,
     "metadata": {},
     "output_type": "execute_result"
    }
   ],
   "source": [
    "client_stay_after_nov = data[data.End > pd.to_datetime('2016-11')]\n",
    "churn_dec = client_stay_after_nov[client_stay_after_nov.End ==pd.to_datetime('2016-12')].Churned.sum()/client_stay_after_nov.shape[0]\n",
    "churn_dec"
   ]
  },
  {
   "cell_type": "markdown",
   "metadata": {},
   "source": [
    "### churn rate of jan"
   ]
  },
  {
   "cell_type": "code",
   "execution_count": 45,
   "metadata": {},
   "outputs": [
    {
     "data": {
      "text/plain": [
       "0.0"
      ]
     },
     "execution_count": 45,
     "metadata": {},
     "output_type": "execute_result"
    }
   ],
   "source": [
    "client_stay_after_dec = data[data.End > pd.to_datetime('2016-12')]\n",
    "churn_jan = client_stay_after_dec[client_stay_after_dec.End ==pd.to_datetime('2017-01')].Churned.sum()/client_stay_after_dec.shape[0]\n",
    "churn_jan"
   ]
  },
  {
   "cell_type": "markdown",
   "metadata": {},
   "source": [
    "### overall rate"
   ]
  },
  {
   "cell_type": "code",
   "execution_count": 236,
   "metadata": {},
   "outputs": [
    {
     "data": {
      "text/plain": [
       "0.18110236220472442"
      ]
     },
     "execution_count": 236,
     "metadata": {},
     "output_type": "execute_result"
    }
   ],
   "source": [
    "data.Churned.mean()"
   ]
  },
  {
   "cell_type": "code",
   "execution_count": null,
   "metadata": {
    "collapsed": true
   },
   "outputs": [],
   "source": []
  },
  {
   "cell_type": "markdown",
   "metadata": {},
   "source": [
    "## write up"
   ]
  },
  {
   "cell_type": "code",
   "execution_count": 14,
   "metadata": {
    "scrolled": true
   },
   "outputs": [
    {
     "data": {
      "text/html": [
       "<div>\n",
       "<table border=\"1\" class=\"dataframe\">\n",
       "  <thead>\n",
       "    <tr style=\"text-align: right;\">\n",
       "      <th></th>\n",
       "      <th>Client number</th>\n",
       "      <th>Region</th>\n",
       "      <th>Customer Begin</th>\n",
       "      <th>Customer End</th>\n",
       "      <th>Churned</th>\n",
       "      <th>Margin Group</th>\n",
       "      <th>Account Size</th>\n",
       "      <th>End</th>\n",
       "      <th>Begin</th>\n",
       "    </tr>\n",
       "  </thead>\n",
       "  <tbody>\n",
       "    <tr>\n",
       "      <th>0</th>\n",
       "      <td>6025</td>\n",
       "      <td>Los Angeles</td>\n",
       "      <td>2016-06-24</td>\n",
       "      <td>2017-01-27</td>\n",
       "      <td>0.0</td>\n",
       "      <td>High</td>\n",
       "      <td>Medium</td>\n",
       "      <td>2017-01-01</td>\n",
       "      <td>2016-06-01</td>\n",
       "    </tr>\n",
       "    <tr>\n",
       "      <th>1</th>\n",
       "      <td>7586</td>\n",
       "      <td>Los Angeles</td>\n",
       "      <td>2016-03-10</td>\n",
       "      <td>2017-01-24</td>\n",
       "      <td>0.0</td>\n",
       "      <td>High</td>\n",
       "      <td>Large</td>\n",
       "      <td>2017-01-01</td>\n",
       "      <td>2016-03-01</td>\n",
       "    </tr>\n",
       "    <tr>\n",
       "      <th>2</th>\n",
       "      <td>9740</td>\n",
       "      <td>Los Angeles</td>\n",
       "      <td>2016-02-26</td>\n",
       "      <td>2016-12-09</td>\n",
       "      <td>1.0</td>\n",
       "      <td>High</td>\n",
       "      <td>Large</td>\n",
       "      <td>2016-12-01</td>\n",
       "      <td>2016-02-01</td>\n",
       "    </tr>\n",
       "    <tr>\n",
       "      <th>3</th>\n",
       "      <td>1112</td>\n",
       "      <td>Toronto</td>\n",
       "      <td>2016-07-05</td>\n",
       "      <td>2016-10-28</td>\n",
       "      <td>1.0</td>\n",
       "      <td>Low</td>\n",
       "      <td>Small</td>\n",
       "      <td>2016-10-01</td>\n",
       "      <td>2016-07-01</td>\n",
       "    </tr>\n",
       "    <tr>\n",
       "      <th>4</th>\n",
       "      <td>1223</td>\n",
       "      <td>Toronto</td>\n",
       "      <td>2015-04-27</td>\n",
       "      <td>2017-01-31</td>\n",
       "      <td>0.0</td>\n",
       "      <td>Low</td>\n",
       "      <td>Medium</td>\n",
       "      <td>2017-01-01</td>\n",
       "      <td>2015-04-01</td>\n",
       "    </tr>\n",
       "  </tbody>\n",
       "</table>\n",
       "</div>"
      ],
      "text/plain": [
       "   Client number       Region Customer Begin Customer End  Churned  \\\n",
       "0           6025  Los Angeles     2016-06-24   2017-01-27      0.0   \n",
       "1           7586  Los Angeles     2016-03-10   2017-01-24      0.0   \n",
       "2           9740  Los Angeles     2016-02-26   2016-12-09      1.0   \n",
       "3           1112      Toronto     2016-07-05   2016-10-28      1.0   \n",
       "4           1223      Toronto     2015-04-27   2017-01-31      0.0   \n",
       "\n",
       "  Margin Group Account Size        End      Begin  \n",
       "0         High       Medium 2017-01-01 2016-06-01  \n",
       "1         High        Large 2017-01-01 2016-03-01  \n",
       "2         High        Large 2016-12-01 2016-02-01  \n",
       "3          Low        Small 2016-10-01 2016-07-01  \n",
       "4          Low       Medium 2017-01-01 2015-04-01  "
      ]
     },
     "execution_count": 14,
     "metadata": {},
     "output_type": "execute_result"
    }
   ],
   "source": [
    "data.head()"
   ]
  },
  {
   "cell_type": "code",
   "execution_count": 30,
   "metadata": {
    "collapsed": true
   },
   "outputs": [],
   "source": [
    "import matplotlib.pyplot as plt"
   ]
  },
  {
   "cell_type": "code",
   "execution_count": 183,
   "metadata": {
    "scrolled": false
   },
   "outputs": [
    {
     "data": {
      "image/png": "[encoded data removed]",
      "text/plain": [
       "<matplotlib.figure.Figure at 0x111d4c190>"
      ]
     },
     "metadata": {},
     "output_type": "display_data"
    }
   ],
   "source": [
    "data.groupby('Region').size().sort_values(ascending = False).plot.bar()\n",
    "plt.title('Number of Clients in Different %s' % ('Regions'), fontsize = 20)\n",
    "plt.show()"
   ]
  },
  {
   "cell_type": "code",
   "execution_count": 181,
   "metadata": {},
   "outputs": [
    {
     "data": {
      "text/plain": [
       "Region\n",
       "Bay Area       152\n",
       "Chicago         69\n",
       "Toronto         30\n",
       "Los Angeles      3\n",
       "dtype: int64"
      ]
     },
     "execution_count": 181,
     "metadata": {},
     "output_type": "execute_result"
    }
   ],
   "source": [
    "data.groupby('Region').size().sort_values(ascending = False)"
   ]
  },
  {
   "cell_type": "code",
   "execution_count": 184,
   "metadata": {},
   "outputs": [
    {
     "data": {
      "image/png": "[encoded data removed]",
      "text/plain": [
       "<matplotlib.figure.Figure at 0x10cb4e710>"
      ]
     },
     "metadata": {},
     "output_type": "display_data"
    }
   ],
   "source": [
    "data.groupby('Margin Group').size().sort_values(ascending = False).plot.bar()\n",
    "plt.title('Number of Clients with Different %s' % ('Margins'), fontsize = 20)\n",
    "plt.show()"
   ]
  },
  {
   "cell_type": "code",
   "execution_count": 185,
   "metadata": {
    "scrolled": true
   },
   "outputs": [
    {
     "data": {
      "image/png": "[encoded data removed]",
      "text/plain": [
       "<matplotlib.figure.Figure at 0x110d03650>"
      ]
     },
     "metadata": {},
     "output_type": "display_data"
    }
   ],
   "source": [
    "data.groupby(['Region','Margin Group', 'Churned']).size().unstack().sort_values(0.0,ascending = False).plot.bar()\n",
    "plt.title('Number of Clients with Different Margins in Different %s' % ('Regions'), fontsize = 20)\n",
    "plt.legend(labels=['Not Churned','Churned'])\n",
    "plt.show()"
   ]
  },
  {
   "cell_type": "code",
   "execution_count": 204,
   "metadata": {},
   "outputs": [
    {
     "data": {
      "image/png": "[encoded data removed]",
      "text/plain": [
       "<matplotlib.figure.Figure at 0x1119d2390>"
      ]
     },
     "metadata": {},
     "output_type": "display_data"
    }
   ],
   "source": [
    "plt.figure(figsize=(9,9))\n",
    "labels = [u'Bay Area, High Margin',u'Bay Area, Low Margin',u'Chicago, Hight Margin',u'Chicago, Low Margin',\\\n",
    "         u'Los Angeles, High Margin',u'Toronto, High Margin',u'Toronto, Low Margin']\n",
    "sizes = [18,13,1,3,1,4,6]\n",
    "\n",
    "explode = (0.1,0,0,0,0,0,0)\n",
    "patches,text1,text2 = plt.pie(sizes,\n",
    "                      explode=explode,\n",
    "                      labels=labels,\n",
    "                      autopct = '%3.2f%%', \n",
    "                      shadow = False, \n",
    "                      startangle =90, \n",
    "                      pctdistance = 0.5)\n",
    "\n",
    "plt.title('Distribution of Churned Clients',fontsize = 20)\n",
    "plt.axis('equal')\n",
    "plt.show()\n"
   ]
  },
  {
   "cell_type": "code",
   "execution_count": 195,
   "metadata": {},
   "outputs": [
    {
     "data": {
      "text/plain": [
       "6"
      ]
     },
     "execution_count": 195,
     "metadata": {},
     "output_type": "execute_result"
    }
   ],
   "source": [
    "len(labels)"
   ]
  },
  {
   "cell_type": "code",
   "execution_count": 192,
   "metadata": {},
   "outputs": [
    {
     "data": {
      "text/plain": [
       "MultiIndex(levels=[[u'Bay Area', u'Chicago', u'Los Angeles', u'Toronto'], [u'High', u'Low'], [1.0]],\n",
       "           labels=[[0, 0, 1, 1, 2, 3, 3], [0, 1, 0, 1, 0, 0, 1], [0, 0, 0, 0, 0, 0, 0]],\n",
       "           names=[u'Region', u'Margin Group', u'Churned'])"
      ]
     },
     "execution_count": 192,
     "metadata": {},
     "output_type": "execute_result"
    }
   ],
   "source": [
    "data[data.Churned == 1].groupby(['Region','Margin Group', 'Churned']).size().index"
   ]
  },
  {
   "cell_type": "code",
   "execution_count": 171,
   "metadata": {
    "scrolled": true
   },
   "outputs": [
    {
     "data": {
      "text/html": [
       "<div>\n",
       "<table border=\"1\" class=\"dataframe\">\n",
       "  <thead>\n",
       "    <tr style=\"text-align: right;\">\n",
       "      <th>Margin Group</th>\n",
       "      <th>High</th>\n",
       "      <th>Low</th>\n",
       "    </tr>\n",
       "    <tr>\n",
       "      <th>Region</th>\n",
       "      <th></th>\n",
       "      <th></th>\n",
       "    </tr>\n",
       "  </thead>\n",
       "  <tbody>\n",
       "    <tr>\n",
       "      <th>Bay Area</th>\n",
       "      <td>0.219512</td>\n",
       "      <td>0.185714</td>\n",
       "    </tr>\n",
       "    <tr>\n",
       "      <th>Chicago</th>\n",
       "      <td>0.031250</td>\n",
       "      <td>0.081081</td>\n",
       "    </tr>\n",
       "    <tr>\n",
       "      <th>Los Angeles</th>\n",
       "      <td>0.333333</td>\n",
       "      <td>NaN</td>\n",
       "    </tr>\n",
       "    <tr>\n",
       "      <th>Toronto</th>\n",
       "      <td>0.266667</td>\n",
       "      <td>0.400000</td>\n",
       "    </tr>\n",
       "  </tbody>\n",
       "</table>\n",
       "</div>"
      ],
      "text/plain": [
       "Margin Group      High       Low\n",
       "Region                          \n",
       "Bay Area      0.219512  0.185714\n",
       "Chicago       0.031250  0.081081\n",
       "Los Angeles   0.333333       NaN\n",
       "Toronto       0.266667  0.400000"
      ]
     },
     "execution_count": 171,
     "metadata": {},
     "output_type": "execute_result"
    }
   ],
   "source": [
    "a = data.pivot_table(values='Churned', index=['Region'],columns=['Margin Group'])\n",
    "a"
   ]
  },
  {
   "cell_type": "code",
   "execution_count": 168,
   "metadata": {},
   "outputs": [
    {
     "data": {
      "text/plain": [
       "MultiIndex(levels=[[u'Churned'], [u'High', u'Low']],\n",
       "           labels=[[0, 0], [0, 1]],\n",
       "           names=[None, u'Margin Group'])"
      ]
     },
     "execution_count": 168,
     "metadata": {},
     "output_type": "execute_result"
    }
   ],
   "source": [
    "b = data.pivot_table(values=['Churned'], index=['Region'],columns=['Margin Group'],aggfunc=np.sum)\n",
    "b.columns"
   ]
  },
  {
   "cell_type": "code",
   "execution_count": 205,
   "metadata": {
    "scrolled": false
   },
   "outputs": [
    {
     "data": {
      "image/png": "[encoded data removed]",
      "text/plain": [
       "<matplotlib.figure.Figure at 0x111a2f710>"
      ]
     },
     "metadata": {},
     "output_type": "display_data"
    }
   ],
   "source": [
    "a.sort_values(('Low'),ascending = False).plot.bar()\n",
    "plt.title('Churned Rates in Different %s' % ('Regions with Different Margin Groups'), fontsize = 20)\n",
    "plt.legend(labels=['High Margin','Low Margin'])\n",
    "plt.show()"
   ]
  },
  {
   "cell_type": "code",
   "execution_count": 206,
   "metadata": {},
   "outputs": [
    {
     "data": {
      "image/png": "[encoded data removed]",
      "text/plain": [
       "<matplotlib.figure.Figure at 0x1112d8f10>"
      ]
     },
     "metadata": {},
     "output_type": "display_data"
    }
   ],
   "source": [
    "b.sort_values(('Churned','Low'),ascending = False).plot.bar()\n",
    "plt.title('Number of Churned Clients in Different %s' % ('Regions with Different Margin Groups'), fontsize = 20)\n",
    "plt.legend(labels=['High Margin','Low Margin'])\n",
    "plt.show()"
   ]
  },
  {
   "cell_type": "code",
   "execution_count": null,
   "metadata": {
    "collapsed": true
   },
   "outputs": [],
   "source": []
  },
  {
   "cell_type": "code",
   "execution_count": 139,
   "metadata": {
    "scrolled": false
   },
   "outputs": [
    {
     "data": {
      "text/plain": [
       "Region       Churned  Margin Group\n",
       "Bay Area     0.0      High            64\n",
       "                      Low             57\n",
       "             1.0      High            18\n",
       "                      Low             13\n",
       "Chicago      0.0      High            31\n",
       "                      Low             34\n",
       "             1.0      High             1\n",
       "                      Low              3\n",
       "Los Angeles  0.0      High             2\n",
       "             1.0      High             1\n",
       "Toronto      0.0      High            11\n",
       "                      Low              9\n",
       "             1.0      High             4\n",
       "                      Low              6\n",
       "dtype: int64"
      ]
     },
     "execution_count": 139,
     "metadata": {},
     "output_type": "execute_result"
    }
   ],
   "source": [
    "data.groupby(['Region', 'Churned','Margin Group']).size()"
   ]
  },
  {
   "cell_type": "code",
   "execution_count": null,
   "metadata": {
    "collapsed": true
   },
   "outputs": [],
   "source": [
    ".unstack().sort_values('High',ascending = False).plot.bar()\n",
    "plt.title('Number of Churned Clients on Different %s' % ('Regions and Margin Groups'), fontsize = 20)\n",
    "plt.legend(labels=['High Margin','Low Margin'])\n",
    "plt.show()"
   ]
  },
  {
   "cell_type": "markdown",
   "metadata": {},
   "source": [
    "## Question 2"
   ]
  },
  {
   "cell_type": "markdown",
   "metadata": {},
   "source": [
    "AB-test makes sense in this case because we are trying to compare the churn rate of two different groups, and AB-test is a method to give a statistical conclusion. \n",
    "\n",
    "Another method can be linear regression that studies the relationship between margin level and churned rate. But it is hard for linear regression to study exactly the behaviors of two groups, in our case, margin 15% and 18%. So an AB-test is neccessary. \n"
   ]
  },
  {
   "cell_type": "markdown",
   "metadata": {},
   "source": [
    "## Quesiton 3"
   ]
  },
  {
   "cell_type": "markdown",
   "metadata": {},
   "source": [
    "To examine the effect of raising the margin, we would run a AB test to our users. We would use the group of users with 15% margin as our control group, and the group of users with higher margin, 18%, as our experiment group. Then we would study whether the churned rate is the same for these two group of users. The type of A/B testing we will use is test of propotion as the question of interest is the churn rate of the two groups. \n",
    "\n",
    "The framework of the A/B test will be designed with following steps: \n",
    "\n",
    "1. with the table above, calculate the overal average churn rate grouped by two groups. say the two churn rate is p1 and p2 for control group and experiment group, respectively\n",
    "\n",
    "2. because for each customer, churn or not is a bernouli trial with $\\pi$, the variance of the two churn rate is $\\frac{\\pi*(1-\\pi)}{n}$, where n is the number of total client. Therefore, each p follows the normal distribution: $N(\\pi, \\frac{\\pi*(1-\\pi)}{n})$\n",
    "\n",
    "3. set hypothesis \n",
    "$$H_{0}: \\pi_{1} = \\pi_{2}$$\n",
    "$$H_{1}: \\pi_{1} \\neq \\pi_{2}$$\n",
    "\n",
    "4. calculate the statistics of the as $\\frac{p1-p2}{\\frac{p1-(1-p1}{n1}+\\frac{p2-(1-p2}{n2}}$ follows N(0,1)\n",
    "\n",
    "5. finally compare the statistics against a cutoff point or \\alpha level to decide reject $$H_{0}$$ or not. \n",
    "\n",
    "To avoid affecting users, we group the users into different segments by their location and apply let users from one region all be control or test group. \n",
    "\n",
    "\n",
    "The potential rish is that users may realize they are in test and are paying different price for the catering food. "
   ]
  },
  {
   "cell_type": "markdown",
   "metadata": {},
   "source": [
    "## Question 4"
   ]
  },
  {
   "cell_type": "markdown",
   "metadata": {},
   "source": [
    "We would run hypothesis test for a population mean on our data. \n",
    "\n",
    "We choose this test because we are trying to study the effect of different margin levels on the churned rate. So we will need to compare the average churned rate between two groups of users of different margin levels. If users with higher margins have higher, or lower churned rate statistically, then we can conclude that margin level does affect churned rate. \n",
    "\n",
    "Because we focus on the average value, which is the population mean of two groups, we are using hypothesis test for population mean. "
   ]
  },
  {
   "cell_type": "markdown",
   "metadata": {},
   "source": [
    "## Question 5"
   ]
  },
  {
   "cell_type": "markdown",
   "metadata": {},
   "source": [
    "The null hyputhesis test is that two groups, either with high or low margin level, will have the same churned rate."
   ]
  },
  {
   "cell_type": "markdown",
   "metadata": {},
   "source": [
    "## Question 6"
   ]
  },
  {
   "cell_type": "markdown",
   "metadata": {},
   "source": [
    "Alternative hypothesis will be two groups with different margin level will have different population mean. "
   ]
  },
  {
   "cell_type": "markdown",
   "metadata": {},
   "source": [
    "## Question 7"
   ]
  },
  {
   "cell_type": "markdown",
   "metadata": {},
   "source": [
    "p value"
   ]
  },
  {
   "cell_type": "markdown",
   "metadata": {},
   "source": [
    "## Question 8\n",
    "\n",
    "1. as a starting point, we define the effect size as 0.1, which means lower margin group - control group has a 0.1 higher churn rate than experiment group\n",
    "\n",
    "2. x: likelihood seeing this data, y: effective size. the plot is a decreasing trend"
   ]
  },
  {
   "cell_type": "code",
   "execution_count": null,
   "metadata": {
    "collapsed": true
   },
   "outputs": [],
   "source": []
  }
 ],
 "metadata": {
  "kernelspec": {
   "display_name": "Python 2",
   "language": "python",
   "name": "python2"
  },
  "language_info": {
   "codemirror_mode": {
    "name": "ipython",
    "version": 2
   },
   "file_extension": ".py",
   "mimetype": "text/x-python",
   "name": "python",
   "nbconvert_exporter": "python",
   "pygments_lexer": "ipython2",
   "version": "2.7.13"
  }
 },
 "nbformat": 4,
 "nbformat_minor": 2
}
